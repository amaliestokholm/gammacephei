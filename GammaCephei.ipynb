{
 "cells": [
  {
   "cell_type": "markdown",
   "metadata": {},
   "source": [
    "# Gamma Cephei"
   ]
  },
  {
   "cell_type": "markdown",
   "metadata": {},
   "source": [
    "Gamma Cephei is a spectroscopic binary with a planet of minimum mass of 1.7 sin(i) jupiter mass.\n",
    "\n",
    "Gamma Cephei A is a K1 subgiant star, while Gamma Cephei B is a red dwarf."
   ]
  },
  {
   "cell_type": "code",
   "execution_count": 1,
   "metadata": {},
   "outputs": [],
   "source": [
    "import numpy as np\n",
    "\n",
    "# Stellar parameters found in the literature\n",
    "pi = 70.91  # mas. From Hipparcos, new estimates\n",
    "\n",
    "# Colors from SIMBAD\n",
    "U = 5.190\n",
    "B = 4.250\n",
    "V = 3.220\n",
    "R = 2.6\n",
    "I = 2.1\n",
    "J = 1.66\n",
    "H = 1.19\n",
    "K = 1.04\n",
    "\n",
    "# Ref: Jofre et al 2015\n",
    "logg = 3.18  # logg from Jofre et al 2015\n",
    "teff_ref = 4794\n",
    "\n",
    "# Metallicities from the literature: here the lowest (from ref), median, and highest value since 1990.\n",
    "FeHs = [-0.05, 0.04, 0.17]\n",
    "\n",
    "# Solar values from Prsa et al 2016\n",
    "teff_sun = 5772\n",
    "logg_sun = 4.43"
   ]
  },
  {
   "cell_type": "code",
   "execution_count": 2,
   "metadata": {},
   "outputs": [
    {
     "name": "stdout",
     "output_type": "stream",
     "text": [
      "The distance is 14.102 pc\n"
     ]
    }
   ],
   "source": [
    "# Distance\n",
    "d = 1 / (pi * 10 ** (-3))\n",
    "print('The distance is %.3f pc' % d)"
   ]
  },
  {
   "cell_type": "code",
   "execution_count": 3,
   "metadata": {},
   "outputs": [
    {
     "name": "stdout",
     "output_type": "stream",
     "text": [
      "If [Fe/H] = -0.05:\n",
      "Effective temperature from U-V is 4721 +/- 80 K\n",
      "Effective temperature from B-V is 4733 +/- 96 K\n",
      "Effective temperature from V-R is 5180 +/- 150 K\n",
      "Effective temperature from V-K is 4919 +/- 25 K\n",
      "Effective temperature from J-H is 4796 +/- 170 K\n",
      "Effective temperature from J-H is 5148 +/- 125 K\n",
      "The mean of all calculated effective temperatures is 4916 K\n",
      "The median of all calculated effective temperatures is 4857 K\n",
      "The std of all calculated effective temperatures is 187 K\n",
      "\n",
      "If [Fe/H] = 0.04:\n",
      "Effective temperature from U-V is 4758 +/- 80 K\n",
      "Effective temperature from B-V is 4757 +/- 96 K\n",
      "Effective temperature from V-R is 5188 +/- 150 K\n",
      "Effective temperature from V-K is 4923 +/- 25 K\n",
      "Effective temperature from J-H is 4785 +/- 170 K\n",
      "Effective temperature from J-H is 5148 +/- 125 K\n",
      "The mean of all calculated effective temperatures is 4927 K\n",
      "The median of all calculated effective temperatures is 4854 K\n",
      "The std of all calculated effective temperatures is 180 K\n",
      "\n",
      "If [Fe/H] = 0.17:\n",
      "Effective temperature from U-V is 4816 +/- 80 K\n",
      "Effective temperature from B-V is 4793 +/- 96 K\n",
      "Effective temperature from V-R is 5201 +/- 150 K\n",
      "Effective temperature from V-K is 4929 +/- 25 K\n",
      "Effective temperature from J-H is 4769 +/- 170 K\n",
      "Effective temperature from J-H is 5148 +/- 125 K\n",
      "The mean of all calculated effective temperatures is 4943 K\n",
      "The median of all calculated effective temperatures is 4872 K\n",
      "The std of all calculated effective temperatures is 172 K\n",
      "\n"
     ]
    }
   ],
   "source": [
    "# Effective temperature\n",
    "# We assume a metallicity similar to the Sun and use Alonso et al. 1999\n",
    "def alonso1999(X, FeH, a):\n",
    "    theta = (a[0] + a[1] * X\n",
    "             + a[2] * X ** 2\n",
    "             + a[3] * X * FeH\n",
    "             + a[4] * FeH\n",
    "             + a[5] * FeH ** 2)\n",
    "    teff = 5040 / theta\n",
    "    teffs.append(teff)\n",
    "    return teff\n",
    "\n",
    "def print_teff(color, teff, sigma):\n",
    "    print('Effective temperature from %s is %.0f +/- %.0f K'\n",
    "        % (color, teff, sigma))\n",
    "\n",
    "for FeH in FeHs:\n",
    "    teffs = []\n",
    "    # Using the relation with the most stars in the sample\n",
    "    print('If [Fe/H] = %.2f:' % FeH)\n",
    "    if U and V is not None:\n",
    "        #a_uv = [0.6388, 0.4065, -0.1117, -2.308e-3, -7.783e-2, 1.200e-2]\n",
    "        a_uv = [0.8323, 9.374e-2, 1.184e-2, 2.351e-2, -0.1392, -1.944e-2]\n",
    "        sigma_uv = 80\n",
    "        teff_uv = alonso1999(U - V, FeH, a_uv)\n",
    "        print_teff('U-V', teff_uv, sigma_uv)\n",
    "\n",
    "    if B and V is not None:\n",
    "        a_bv = [0.6177, 0.4354, -4.025e-3, 5.204e-2, -0.1127, -1.385e-2]\n",
    "        sigma_bv = 96\n",
    "        teff_bv = alonso1999(B - V, FeH, a_bv)\n",
    "        print_teff('B-V', teff_bv, sigma_bv)\n",
    "\n",
    "    if V and R is not None:\n",
    "        a_vr = [0.4972, 0.8841, -0.1904, -1.197e-2, -1.025e-2, -5.500e-3]\n",
    "        sigma_vr = 150\n",
    "        teff_vr = alonso1999(V - R, FeH, a_vr)\n",
    "        print_teff('V-R', teff_vr, sigma_vr)\n",
    "\n",
    "    if V and K is not None:\n",
    "        a_vk = [0.5558, 0.2105, 1.981e-3, -9.965e-3, 1.325e-2, -2.726e-3]\n",
    "        sigma_vk = 25\n",
    "        teff_vk = alonso1999(V - K, FeH, a_vk)\n",
    "        print_teff('V-K', teff_vk, sigma_vk)\n",
    "\n",
    "    if J and H is not None:\n",
    "        a_jh = [0.5977, 1.015, -1.020e-1, -1.029e-2, 3.006e-2, 1.013e-2]\n",
    "        sigma_jh = 170\n",
    "        teff_jh = alonso1999(J - H, FeH, a_jh)\n",
    "        print_teff('J-H', teff_jh, sigma_jh)\n",
    "\n",
    "    if J and K is not None:\n",
    "        a_jh = [0.5816, 0.9134, -0.1443, 0, 0, 0]\n",
    "        sigma_jh = 125\n",
    "        teff_jh = alonso1999(J - H, FeH, a_jh)\n",
    "        print_teff('J-H', teff_jh, sigma_jh)\n",
    "\n",
    "        \n",
    "    teffs = np.asarray(teffs)\n",
    "    mean = np.mean(teffs)\n",
    "    median = np.median(teffs)\n",
    "    std = np.std(teffs)\n",
    "    print('The mean of all calculated effective temperatures is %.0f K' % mean)\n",
    "    print('The median of all calculated effective temperatures is %.0f K' % median)\n",
    "    print('The std of all calculated effective temperatures is %.0f K' % std)\n",
    "    print('The reference temperature from Jofre et al 2015 is %.0f K' % teff_ref)\n",
    "    print('')"
   ]
  },
  {
   "cell_type": "code",
   "execution_count": 4,
   "metadata": {},
   "outputs": [],
   "source": [
    "# Bolometric correction\n",
    "# Using Table 1 in Torres 2010, we get a bolometric correction from Teff\n",
    "def BC(teff):\n",
    "    logteff = np.log10(teff)\n",
    "    if logteff < 3.70:\n",
    "        a = -0.190537291496456E+05\n",
    "        b = 0.155144866764412E+05\n",
    "        c = -0.421278819301717E+04\n",
    "        d = 0.381476328422343E+03\n",
    "    BCV = a + b * logteff + c * logteff ** 2 + d * logteff ** 3\n",
    "    return BCV"
   ]
  },
  {
   "cell_type": "code",
   "execution_count": 5,
   "metadata": {},
   "outputs": [
    {
     "name": "stdout",
     "output_type": "stream",
     "text": [
      "The mass of the star is 1.20\n"
     ]
    }
   ],
   "source": [
    "# Surface gravity\n",
    "BC = BC(median)\n",
    "logM = (logg - logg_sun - 4 * np.log10(median / teff_sun) - 0.4 * V - 0.4 * BC\n",
    "        - 2 * np.log10(pi * 10 ** (-3)) - 0.12)\n",
    "mass = 10 ** logM\n",
    "print('The mass of the star is %.2f' % mass)"
   ]
  }
 ],
 "metadata": {
  "kernelspec": {
   "display_name": "Python 3",
   "language": "python",
   "name": "python3"
  },
  "language_info": {
   "codemirror_mode": {
    "name": "ipython",
    "version": 3
   },
   "file_extension": ".py",
   "mimetype": "text/x-python",
   "name": "python",
   "nbconvert_exporter": "python",
   "pygments_lexer": "ipython3",
   "version": "3.6.4"
  }
 },
 "nbformat": 4,
 "nbformat_minor": 2
}
